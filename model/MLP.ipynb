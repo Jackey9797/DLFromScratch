{
 "cells": [
  {
   "cell_type": "code",
   "execution_count": 1,
   "metadata": {},
   "outputs": [],
   "source": [
    "import gzip\n",
    "import torch \n",
    "import torchvision\n",
    "import numpy as np\n",
    "from torch import nn\n",
    "import matplotlib.pyplot as plt"
   ]
  },
  {
   "cell_type": "code",
   "execution_count": 2,
   "metadata": {},
   "outputs": [],
   "source": [
    "class MLP(nn.Module): \n",
    "    def __init__(self, input_size, output_size, multi_layer, layer_num, hidden_size, activation): ##TODO multi参数删了\n",
    "        super().__init__()\n",
    "\n",
    "        if activation == 'S' :\n",
    "            self.activation = nn.Sigmoid() \n",
    "        elif activation == 'R': \n",
    "            self.activation = nn.ReLU() \n",
    "        \n",
    "        if multi_layer == False: \n",
    "            self.net = nn.Sequential(nn.Flatten(), nn.Linear(input_size, output_size), self.activation)\n",
    "        else : \n",
    "            self.layer_list = [nn.Flatten(), nn.Linear(input_size, hidden_size), self.activation]\n",
    "\n",
    "            for i in range(layer_num - 1): \n",
    "                self.layer_list += [nn.Linear(hidden_size, hidden_size), nn.Dropout(p=0.2), self.activation]\n",
    "\n",
    "            self.layer_list += [nn.Linear(hidden_size, output_size), self.activation]\n",
    "            self.net = nn.Sequential(*self.layer_list) \n",
    "\n",
    "    def info(self):\n",
    "        for i, layer in enumerate(self.net): \n",
    "            print((\"第%d层: \" + layer._get_name()) % i) #可以删了， 展示还是建议用原来函数及 keras包 \n",
    "\n",
    "    def forward(self, x): \n",
    "        return self.net(x) \n",
    "\n",
    "model = MLP(784, 10, True, 2, 128, \"R\")\n",
    "# model.info()\n",
    "# model(torch.ones(10, 28, 28))\n",
    "# model\n",
    "\n",
    "#* 自定义参数初始化 \n",
    "#* "
   ]
  }
 ],
 "metadata": {
  "kernelspec": {
   "display_name": "Python 3.9.12 ('torch')",
   "language": "python",
   "name": "python3"
  },
  "language_info": {
   "codemirror_mode": {
    "name": "ipython",
    "version": 3
   },
   "file_extension": ".py",
   "mimetype": "text/x-python",
   "name": "python",
   "nbconvert_exporter": "python",
   "pygments_lexer": "ipython3",
   "version": "3.9.12"
  },
  "orig_nbformat": 4,
  "vscode": {
   "interpreter": {
    "hash": "9dee909b94f9b71f1735c26369abf02849623765c9fac88e4d4cba156fc12504"
   }
  }
 },
 "nbformat": 4,
 "nbformat_minor": 2
}
