{
 "cells": [
  {
   "cell_type": "code",
   "execution_count": 8,
   "metadata": {},
   "outputs": [],
   "source": [
    "import gzip\n",
    "import torch \n",
    "import torchvision\n",
    "import numpy as np\n",
    "import matplotlib.pyplot as plt"
   ]
  },
  {
   "cell_type": "markdown",
   "metadata": {},
   "source": [
    "读取解压的文件\n",
    "\n",
    "即将四个.gz文件解压，这种读取方式有很多种，如下：\n",
    "\n",
    "- 使用np.fromfile读取\n",
    "- 使用idx2numpy模块读取\n",
    "- 使用array读取"
   ]
  },
  {
   "cell_type": "code",
   "execution_count": 9,
   "metadata": {},
   "outputs": [],
   "source": [
    "data_path = \"../data/\" \n",
    "file_name = {\"train\": (\"train-images-idx3-ubyte.gz\", \"train-labels-idx1-ubyte.gz\"), \n",
    "             \"test\": (\"t10k-images-idx3-ubyte.gz\", \"t10k-labels-idx1-ubyte.gz\")}\n",
    "\n",
    "\n",
    "def get_data(data_type): \n",
    "    image_file = data_path + file_name[data_type][0] \n",
    "    label_file = data_path + file_name[data_type][1] \n",
    "\n",
    "    with gzip.open(label_file, \"rb\") as f: \n",
    "        f.read(8) \n",
    "        labels = np.frombuffer(f.read(), dtype=np.uint8) \n",
    "\n",
    "    with gzip.open(image_file, \"rb\") as f: \n",
    "        f.read(16) \n",
    "        content = np.frombuffer(f.read(), dtype=np.uint8) \n",
    "        images = content.reshape(-1, 28, 28)\n",
    "\n",
    "    return images, labels\n",
    "\n",
    "x_train, y_train = get_data(\"train\") \n",
    "x_test, y_test = get_data(\"test\")\n",
    "\n",
    "# plt.imshow(x_test[2])"
   ]
  },
  {
   "cell_type": "markdown",
   "metadata": {},
   "source": [
    "However, we are losing a lot of features by using a simple for loop to iterate over the data. In particular, we are missing out on:\n",
    "\n",
    "- Batching the data\n",
    "- Shuffling the data\n",
    "- Load the data in parallel using multiprocessing workers"
   ]
  },
  {
   "cell_type": "code",
   "execution_count": 28,
   "metadata": {},
   "outputs": [],
   "source": [
    "from sklearn.manifold import LocallyLinearEmbedding\n",
    "from torch.utils.data import Dataset, DataLoader\n",
    "from torch.utils.data import random_split\n",
    "\n",
    "class MNIST(Dataset): \n",
    "    def __init__(self, data_type, transform=None, inbalance=False):\n",
    "        super().__init__() \n",
    "        self.data, self.labels = get_data(data_type)  \n",
    "        if inbalance == True : # 构造类别不平衡数据\n",
    "            label_idx = {}; label_num = {}  # 每个数字对应的数据下标；构造的inbalance数据每个数字样本个数 \n",
    "            for i in range(0, 10): \n",
    "                label_idx[i] = [j for j in range(0, len(self.labels)) if self.labels[j] == i] \n",
    "                # print(len(label_idx[i]))\n",
    "                label_num[i] = int(len(label_idx[i]) / (i % 3 * 2 + 1))\n",
    "                label_idx[i] = label_idx[i][:label_num[i]] # 每个数字样本集取前num个 \n",
    "                # print(len(label_idx[i]), label_num[i])\n",
    "\n",
    "\n",
    "            new_idx = []\n",
    "            for i in range(0, 10): \n",
    "                new_idx += label_idx[i]\n",
    "            # print(new_idx, len(new_idx))\n",
    "            # print(np.array(self.data).shape)\n",
    "            # print(np.array(self.labels).shape)\n",
    "            self.data = np.array(self.data)[new_idx]\n",
    "            self.labels = np.array(self.labels)[new_idx]\n",
    "            \n",
    "            # print(np.array(self.data).shape)\n",
    "            # print(np.array(self.labels).shape)\n",
    "            # 重新索引\n",
    "        self.data = torch.tensor(self.data, dtype=torch.float)\n",
    "        \n",
    "        self.labels = torch.tensor(self.labels, dtype=torch.long) # ? float & float64\n",
    "        self.transform = transform\n",
    "\n",
    "\n",
    "    def __len__(self):\n",
    "        return len(self.labels)\n",
    "\n",
    "    def __getitem__(self, index):\n",
    "        img, label = self.data[index], self.labels[index]\n",
    "        if self.transform : \n",
    "            img = self.transform(img)\n",
    "        img = img.unsqueeze(0)\n",
    "        # print(label)\n",
    "\n",
    "        return img, label "
   ]
  },
  {
   "cell_type": "code",
   "execution_count": 31,
   "metadata": {},
   "outputs": [
    {
     "name": "stdout",
     "output_type": "stream",
     "text": [
      "33648\n"
     ]
    }
   ],
   "source": [
    "ds = MNIST(\"train\", transform=lambda x: x / 255, inbalance=True)\n",
    "print(len(ds))"
   ]
  },
  {
   "cell_type": "code",
   "execution_count": 41,
   "metadata": {},
   "outputs": [
    {
     "data": {
      "text/plain": [
       "[0, 1, 2, 3, 4, 5, 6, 7, 8, 9]"
      ]
     },
     "execution_count": 41,
     "metadata": {},
     "output_type": "execute_result"
    }
   ],
   "source": [
    "list(range(0,10))"
   ]
  },
  {
   "cell_type": "code",
   "execution_count": 44,
   "metadata": {},
   "outputs": [
    {
     "ename": "AttributeError",
     "evalue": "'Rectangle' object has no property 'yticks'",
     "output_type": "error",
     "traceback": [
      "\u001b[1;31m---------------------------------------------------------------------------\u001b[0m",
      "\u001b[1;31mAttributeError\u001b[0m                            Traceback (most recent call last)",
      "\u001b[1;32md:\\IT\\code\\DLFromScratch\\model\\dataset.ipynb Cell 8\u001b[0m in \u001b[0;36m<cell line: 8>\u001b[1;34m()\u001b[0m\n\u001b[0;32m      <a href='vscode-notebook-cell:/d%3A/IT/code/DLFromScratch/model/dataset.ipynb#X11sZmlsZQ%3D%3D?line=4'>5</a>\u001b[0m \u001b[39mfor\u001b[39;00m i \u001b[39min\u001b[39;00m \u001b[39mrange\u001b[39m(\u001b[39m0\u001b[39m, \u001b[39m10\u001b[39m): \n\u001b[0;32m      <a href='vscode-notebook-cell:/d%3A/IT/code/DLFromScratch/model/dataset.ipynb#X11sZmlsZQ%3D%3D?line=5'>6</a>\u001b[0m     label_idx[i] \u001b[39m=\u001b[39m [j \u001b[39mfor\u001b[39;00m j \u001b[39min\u001b[39;00m \u001b[39mrange\u001b[39m(\u001b[39m0\u001b[39m, \u001b[39mlen\u001b[39m(ds\u001b[39m.\u001b[39mlabels)) \u001b[39mif\u001b[39;00m ds\u001b[39m.\u001b[39mlabels[j] \u001b[39m==\u001b[39m i] \n\u001b[1;32m----> <a href='vscode-notebook-cell:/d%3A/IT/code/DLFromScratch/model/dataset.ipynb#X11sZmlsZQ%3D%3D?line=7'>8</a>\u001b[0m plt\u001b[39m.\u001b[39;49mbarh(\u001b[39mlist\u001b[39;49m(\u001b[39mrange\u001b[39;49m(\u001b[39m0\u001b[39;49m,\u001b[39m10\u001b[39;49m)),[\u001b[39mlen\u001b[39;49m(label_idx[i]) \u001b[39mfor\u001b[39;49;00m i \u001b[39min\u001b[39;49;00m \u001b[39mrange\u001b[39;49m(\u001b[39m0\u001b[39;49m,\u001b[39m10\u001b[39;49m)],height\u001b[39m=\u001b[39;49m\u001b[39m0.5\u001b[39;49m,yticks\u001b[39m=\u001b[39;49m\u001b[39mlist\u001b[39;49m(\u001b[39mrange\u001b[39;49m(\u001b[39m0\u001b[39;49m,\u001b[39m10\u001b[39;49m)))\n",
      "File \u001b[1;32md:\\IT\\Anaconda\\envs\\torch\\lib\\site-packages\\matplotlib\\pyplot.py:2403\u001b[0m, in \u001b[0;36mbarh\u001b[1;34m(y, width, height, left, align, **kwargs)\u001b[0m\n\u001b[0;32m   2401\u001b[0m \u001b[39m@_copy_docstring_and_deprecators\u001b[39m(Axes\u001b[39m.\u001b[39mbarh)\n\u001b[0;32m   2402\u001b[0m \u001b[39mdef\u001b[39;00m \u001b[39mbarh\u001b[39m(y, width, height\u001b[39m=\u001b[39m\u001b[39m0.8\u001b[39m, left\u001b[39m=\u001b[39m\u001b[39mNone\u001b[39;00m, \u001b[39m*\u001b[39m, align\u001b[39m=\u001b[39m\u001b[39m'\u001b[39m\u001b[39mcenter\u001b[39m\u001b[39m'\u001b[39m, \u001b[39m*\u001b[39m\u001b[39m*\u001b[39mkwargs):\n\u001b[1;32m-> 2403\u001b[0m     \u001b[39mreturn\u001b[39;00m gca()\u001b[39m.\u001b[39mbarh(\n\u001b[0;32m   2404\u001b[0m         y, width, height\u001b[39m=\u001b[39mheight, left\u001b[39m=\u001b[39mleft, align\u001b[39m=\u001b[39malign, \u001b[39m*\u001b[39m\u001b[39m*\u001b[39mkwargs)\n",
      "File \u001b[1;32md:\\IT\\Anaconda\\envs\\torch\\lib\\site-packages\\matplotlib\\axes\\_axes.py:2551\u001b[0m, in \u001b[0;36mAxes.barh\u001b[1;34m(self, y, width, height, left, align, **kwargs)\u001b[0m\n\u001b[0;32m   2452\u001b[0m \u001b[39mr\u001b[39m\u001b[39m\"\"\"\u001b[39;00m\n\u001b[0;32m   2453\u001b[0m \u001b[39mMake a horizontal bar plot.\u001b[39;00m\n\u001b[0;32m   2454\u001b[0m \n\u001b[1;32m   (...)\u001b[0m\n\u001b[0;32m   2548\u001b[0m \u001b[39m.\u001b[39;00m\n\u001b[0;32m   2549\u001b[0m \u001b[39m\"\"\"\u001b[39;00m\n\u001b[0;32m   2550\u001b[0m kwargs\u001b[39m.\u001b[39msetdefault(\u001b[39m'\u001b[39m\u001b[39morientation\u001b[39m\u001b[39m'\u001b[39m, \u001b[39m'\u001b[39m\u001b[39mhorizontal\u001b[39m\u001b[39m'\u001b[39m)\n\u001b[1;32m-> 2551\u001b[0m patches \u001b[39m=\u001b[39m \u001b[39mself\u001b[39m\u001b[39m.\u001b[39mbar(x\u001b[39m=\u001b[39mleft, height\u001b[39m=\u001b[39mheight, width\u001b[39m=\u001b[39mwidth, bottom\u001b[39m=\u001b[39my,\n\u001b[0;32m   2552\u001b[0m                    align\u001b[39m=\u001b[39malign, \u001b[39m*\u001b[39m\u001b[39m*\u001b[39mkwargs)\n\u001b[0;32m   2553\u001b[0m \u001b[39mreturn\u001b[39;00m patches\n",
      "File \u001b[1;32md:\\IT\\Anaconda\\envs\\torch\\lib\\site-packages\\matplotlib\\__init__.py:1412\u001b[0m, in \u001b[0;36m_preprocess_data.<locals>.inner\u001b[1;34m(ax, data, *args, **kwargs)\u001b[0m\n\u001b[0;32m   1409\u001b[0m \u001b[39m@functools\u001b[39m\u001b[39m.\u001b[39mwraps(func)\n\u001b[0;32m   1410\u001b[0m \u001b[39mdef\u001b[39;00m \u001b[39minner\u001b[39m(ax, \u001b[39m*\u001b[39margs, data\u001b[39m=\u001b[39m\u001b[39mNone\u001b[39;00m, \u001b[39m*\u001b[39m\u001b[39m*\u001b[39mkwargs):\n\u001b[0;32m   1411\u001b[0m     \u001b[39mif\u001b[39;00m data \u001b[39mis\u001b[39;00m \u001b[39mNone\u001b[39;00m:\n\u001b[1;32m-> 1412\u001b[0m         \u001b[39mreturn\u001b[39;00m func(ax, \u001b[39m*\u001b[39m\u001b[39mmap\u001b[39m(sanitize_sequence, args), \u001b[39m*\u001b[39m\u001b[39m*\u001b[39mkwargs)\n\u001b[0;32m   1414\u001b[0m     bound \u001b[39m=\u001b[39m new_sig\u001b[39m.\u001b[39mbind(ax, \u001b[39m*\u001b[39margs, \u001b[39m*\u001b[39m\u001b[39m*\u001b[39mkwargs)\n\u001b[0;32m   1415\u001b[0m     auto_label \u001b[39m=\u001b[39m (bound\u001b[39m.\u001b[39marguments\u001b[39m.\u001b[39mget(label_namer)\n\u001b[0;32m   1416\u001b[0m                   \u001b[39mor\u001b[39;00m bound\u001b[39m.\u001b[39mkwargs\u001b[39m.\u001b[39mget(label_namer))\n",
      "File \u001b[1;32md:\\IT\\Anaconda\\envs\\torch\\lib\\site-packages\\matplotlib\\axes\\_axes.py:2403\u001b[0m, in \u001b[0;36mAxes.bar\u001b[1;34m(self, x, height, width, bottom, align, **kwargs)\u001b[0m\n\u001b[0;32m   2394\u001b[0m \u001b[39mfor\u001b[39;00m l, b, w, h, c, e, lw, htch \u001b[39min\u001b[39;00m args:\n\u001b[0;32m   2395\u001b[0m     r \u001b[39m=\u001b[39m mpatches\u001b[39m.\u001b[39mRectangle(\n\u001b[0;32m   2396\u001b[0m         xy\u001b[39m=\u001b[39m(l, b), width\u001b[39m=\u001b[39mw, height\u001b[39m=\u001b[39mh,\n\u001b[0;32m   2397\u001b[0m         facecolor\u001b[39m=\u001b[39mc,\n\u001b[1;32m   (...)\u001b[0m\n\u001b[0;32m   2401\u001b[0m         hatch\u001b[39m=\u001b[39mhtch,\n\u001b[0;32m   2402\u001b[0m         )\n\u001b[1;32m-> 2403\u001b[0m     r\u001b[39m.\u001b[39;49mupdate(kwargs)\n\u001b[0;32m   2404\u001b[0m     r\u001b[39m.\u001b[39mget_path()\u001b[39m.\u001b[39m_interpolation_steps \u001b[39m=\u001b[39m \u001b[39m100\u001b[39m\n\u001b[0;32m   2405\u001b[0m     \u001b[39mif\u001b[39;00m orientation \u001b[39m==\u001b[39m \u001b[39m'\u001b[39m\u001b[39mvertical\u001b[39m\u001b[39m'\u001b[39m:\n",
      "File \u001b[1;32md:\\IT\\Anaconda\\envs\\torch\\lib\\site-packages\\matplotlib\\artist.py:1064\u001b[0m, in \u001b[0;36mArtist.update\u001b[1;34m(self, props)\u001b[0m\n\u001b[0;32m   1062\u001b[0m             func \u001b[39m=\u001b[39m \u001b[39mgetattr\u001b[39m(\u001b[39mself\u001b[39m, \u001b[39mf\u001b[39m\u001b[39m\"\u001b[39m\u001b[39mset_\u001b[39m\u001b[39m{\u001b[39;00mk\u001b[39m}\u001b[39;00m\u001b[39m\"\u001b[39m, \u001b[39mNone\u001b[39;00m)\n\u001b[0;32m   1063\u001b[0m             \u001b[39mif\u001b[39;00m \u001b[39mnot\u001b[39;00m callable(func):\n\u001b[1;32m-> 1064\u001b[0m                 \u001b[39mraise\u001b[39;00m \u001b[39mAttributeError\u001b[39;00m(\u001b[39mf\u001b[39m\u001b[39m\"\u001b[39m\u001b[39m{\u001b[39;00m\u001b[39mtype\u001b[39m(\u001b[39mself\u001b[39m)\u001b[39m.\u001b[39m\u001b[39m__name__\u001b[39m\u001b[39m!r}\u001b[39;00m\u001b[39m object \u001b[39m\u001b[39m\"\u001b[39m\n\u001b[0;32m   1065\u001b[0m                                      \u001b[39mf\u001b[39m\u001b[39m\"\u001b[39m\u001b[39mhas no property \u001b[39m\u001b[39m{\u001b[39;00mk\u001b[39m!r}\u001b[39;00m\u001b[39m\"\u001b[39m)\n\u001b[0;32m   1066\u001b[0m             ret\u001b[39m.\u001b[39mappend(func(v))\n\u001b[0;32m   1067\u001b[0m \u001b[39mif\u001b[39;00m ret:\n",
      "\u001b[1;31mAttributeError\u001b[0m: 'Rectangle' object has no property 'yticks'"
     ]
    },
    {
     "data": {
      "image/png": "[encoded data removed]",
      "text/plain": [
       "<Figure size 432x288 with 1 Axes>"
      ]
     },
     "metadata": {
      "needs_background": "light"
     },
     "output_type": "display_data"
    }
   ],
   "source": [
    "from matplotlib.pyplot import xticks\n",
    "\n",
    "\n",
    "label_idx = {}; label_num = {}  # 每个数字对应的数据下标；构造的inbalance数据每个数字样本个数 \n",
    "for i in range(0, 10): \n",
    "    label_idx[i] = [j for j in range(0, len(ds.labels)) if ds.labels[j] == i] \n"
   ]
  },
  {
   "cell_type": "code",
   "execution_count": 68,
   "metadata": {},
   "outputs": [
    {
     "data": {
      "text/plain": [
       "<BarContainer object of 10 artists>"
      ]
     },
     "execution_count": 68,
     "metadata": {},
     "output_type": "execute_result"
    },
    {
     "data": {
      "image/png": "[encoded data removed]",
      "text/plain": [
       "<Figure size 432x288 with 1 Axes>"
      ]
     },
     "metadata": {
      "needs_background": "light"
     },
     "output_type": "display_data"
    }
   ],
   "source": [
    "# plt.figure(figsize=(10, 12))\n",
    "# plt.bar(list(range(0,10)),[len(label_idx[i]) for i in range(0,10)])\n",
    "# plt.xticks(list(range(0,10)))\n",
    "plt.yticks(list(range(0, 10)))\n",
    "plt.ylim(9.5, -0.5)\n",
    "plt.barh(list(range(0,10)),[len(label_idx[i]) for i in range(0,10)],height=0.5,left=list(range(0,10)))"
   ]
  },
  {
   "cell_type": "code",
   "execution_count": 1,
   "metadata": {},
   "outputs": [],
   "source": [
    "def show_dataset(dataset):\n",
    "    col = 3; row = 4\n",
    "    fig = plt.figure(figsize=(9, 12))\n",
    "\n",
    "    j = 0\n",
    "    for i in range(col * row):\n",
    "        idx = j\n",
    "        j += 1\n",
    "        \n",
    "        x = dataset[idx][0];  y = dataset[idx][1].item()\n",
    "        fig.add_subplot(row, col, i + 1)\n",
    "        plt.axis(\"off\")\n",
    "        plt.imshow(x.squeeze())\n",
    "        plt.title(y)"
   ]
  }
 ],
 "metadata": {
  "kernelspec": {
   "display_name": "Python 3.9.12 ('torch')",
   "language": "python",
   "name": "python3"
  },
  "language_info": {
   "codemirror_mode": {
    "name": "ipython",
    "version": 3
   },
   "file_extension": ".py",
   "mimetype": "text/x-python",
   "name": "python",
   "nbconvert_exporter": "python",
   "pygments_lexer": "ipython3",
   "version": "3.9.12"
  },
  "orig_nbformat": 4,
  "vscode": {
   "interpreter": {
    "hash": "9dee909b94f9b71f1735c26369abf02849623765c9fac88e4d4cba156fc12504"
   }
  }
 },
 "nbformat": 4,
 "nbformat_minor": 2
}
